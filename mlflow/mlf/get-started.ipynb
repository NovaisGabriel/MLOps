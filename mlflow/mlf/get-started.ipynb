{
 "cells": [
  {
   "cell_type": "markdown",
   "metadata": {},
   "source": [
    "## MLFLow Tracking Server"
   ]
  },
  {
   "cell_type": "code",
   "execution_count": 2,
   "metadata": {},
   "outputs": [],
   "source": [
    "#!pip install ipykernel"
   ]
  },
  {
   "cell_type": "code",
   "execution_count": 3,
   "metadata": {},
   "outputs": [],
   "source": [
    "import mlflow"
   ]
  },
  {
   "cell_type": "code",
   "execution_count": 4,
   "metadata": {},
   "outputs": [],
   "source": [
    "mlflow.set_tracking_uri(\"http://127.0.0.1:5000\")"
   ]
  },
  {
   "cell_type": "code",
   "execution_count": 5,
   "metadata": {},
   "outputs": [
    {
     "name": "stderr",
     "output_type": "stream",
     "text": [
      "2025/04/05 15:01:31 INFO mlflow.tracking.fluent: Experiment with name 'Check localhost connection' does not exist. Creating a new experiment.\n"
     ]
    },
    {
     "name": "stdout",
     "output_type": "stream",
     "text": [
      "🏃 View run tasteful-dog-507 at: http://127.0.0.1:5000/#/experiments/536798058317552717/runs/a3b4f0336bfc42bd8d9a52011c54e5c3\n",
      "🧪 View experiment at: http://127.0.0.1:5000/#/experiments/536798058317552717\n"
     ]
    }
   ],
   "source": [
    "mlflow.set_experiment(\"Check localhost connection\")\n",
    "\n",
    "with mlflow.start_run():\n",
    "    mlflow.log_metric(\"test\",1)\n",
    "    mlflow.log_metric(\"Krish\",2)"
   ]
  },
  {
   "cell_type": "code",
   "execution_count": 6,
   "metadata": {},
   "outputs": [
    {
     "name": "stdout",
     "output_type": "stream",
     "text": [
      "🏃 View run adaptable-koi-50 at: http://127.0.0.1:5000/#/experiments/536798058317552717/runs/eb587521826845978053a5d8daeb9d29\n",
      "🧪 View experiment at: http://127.0.0.1:5000/#/experiments/536798058317552717\n"
     ]
    }
   ],
   "source": [
    "with mlflow.start_run():\n",
    "    mlflow.log_metric(\"test1\",1)\n",
    "    mlflow.log_metric(\"Krish1\",2)"
   ]
  },
  {
   "cell_type": "code",
   "execution_count": 7,
   "metadata": {},
   "outputs": [
    {
     "name": "stdout",
     "output_type": "stream",
     "text": [
      "🏃 View run puzzled-conch-610 at: http://127.0.0.1:5000/#/experiments/536798058317552717/runs/7ddfbdc09546442599d5c17a76bfc1a6\n",
      "🧪 View experiment at: http://127.0.0.1:5000/#/experiments/536798058317552717\n"
     ]
    }
   ],
   "source": [
    "with mlflow.start_run():\n",
    "    mlflow.log_metric(\"test2\",1)\n",
    "    mlflow.log_metric(\"Krish2\",2)"
   ]
  },
  {
   "cell_type": "code",
   "execution_count": null,
   "metadata": {},
   "outputs": [],
   "source": []
  }
 ],
 "metadata": {
  "kernelspec": {
   "display_name": "base",
   "language": "python",
   "name": "python3"
  },
  "language_info": {
   "codemirror_mode": {
    "name": "ipython",
    "version": 3
   },
   "file_extension": ".py",
   "mimetype": "text/x-python",
   "name": "python",
   "nbconvert_exporter": "python",
   "pygments_lexer": "ipython3",
   "version": "3.12.4"
  }
 },
 "nbformat": 4,
 "nbformat_minor": 2
}
